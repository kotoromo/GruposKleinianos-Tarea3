{
 "cells": [
  {
   "cell_type": "markdown",
   "metadata": {},
   "source": [
    "# Tarea 3: Teoría\n",
    "**García Fierros Nicky**\n",
    "\n",
    "## Instrucciones generales\n",
    "Demuestra lo que se pide"
   ]
  },
  {
   "attachments": {},
   "cell_type": "markdown",
   "metadata": {},
   "source": [
    "----------------------------------"
   ]
  },
  {
   "attachments": {},
   "cell_type": "markdown",
   "metadata": {},
   "source": [
    "### **Ejercicio 1**\n",
    "\n",
    "$$\\Pi \\circ Rot_{\\pi, X} \\circ \\Pi^{-1}(z) = 1/z$$"
   ]
  },
  {
   "attachments": {},
   "cell_type": "markdown",
   "metadata": {},
   "source": [
    "#### **Prueba**"
   ]
  },
  {
   "attachments": {},
   "cell_type": "markdown",
   "metadata": {},
   "source": [
    "Sea $z \\in \\hat{\\mathbb{C}}$. Primero, \n",
    "\n",
    "\\begin{align*}\n",
    "\\Pi^{-1}(z) &= \\left(\\frac{1}{|z^2| + 1}\\right)(z + \\bar{z}, i (\\bar{z} - z), |z|^2 - 1)\\\\\n",
    "&= \\left(\\frac{1}{|z^2| + 1}\\right)(2 \\mathfrak{Re}(z), 2 \\mathfrak{Im}(z), |z|^2 - 1)\\\\\n",
    "\\end{align*}\n",
    "\n",
    "Además, \n",
    "$$\n",
    "Rot_{\\pi, X} = \\begin{pmatrix}1 & 0 & 0\\\\ 0 & -1 & 0\\\\ 0 & 0 & -1\\end{pmatrix}\n",
    "$$\n",
    "\n",
    "Por lo que entonces se tiene que \n",
    "$$\n",
    "Rot_{\\pi, X} \\circ \\Pi^{-1}(z) = \\left(\\frac{\\bar{z}+z}{|z|^2+1},-\\frac{i \\bar{z}-i z}{|z|^2+1},-\\frac{|z|^2-1}{| z| ^2+1}\\right)\n",
    "$$"
   ]
  },
  {
   "attachments": {},
   "cell_type": "markdown",
   "metadata": {},
   "source": [
    "Luego, \n",
    "\n",
    "$$\n",
    "\\begin{align*}\n",
    "    \\Pi \\circ Rot_{\\pi, X} \\circ \\Pi^{-1}(z) &= \\Pi \\left(\\frac{\\bar{z}+z}{|z|^2+1},-\\frac{i \\bar{z}-i z}{|z|^2+1},-\\frac{|z|^2-1}{| z| ^2+1}\\right)\\\\\n",
    "    &= \\frac{\\bar{z}+z}{\\left(| z| ^2+1\\right) \\left(\\frac{| z| ^2-1}{| z| ^2+1}+1\\right)}-\\frac{i \\left(i \\bar{z}-i z\\right)}{\\left(| z| ^2+1\\right) \\left(\\frac{| z| ^2-1}{| z| ^2+1}+1\\right)}\n",
    "\\end{align*}\n",
    "$$\n",
    "\n",
    "Notemos que $i(i \\bar{z}-i z) = z - \\bar{z}$. Por lo que entonces se tiene que\n",
    "$$\n",
    "\\Pi \\circ Rot_{\\pi, X} \\circ \\Pi^{-1}(z) = q(\\bar{z} + z - (z - \\bar{z})) = 2q \\bar{z}\n",
    "$$\n",
    "\n",
    "donde\n",
    "$$\n",
    "q = \\frac{1}{\\left(| z| ^2+1\\right) \\left(\\frac{| z| ^2-1}{| z| ^2+1}+1\\right)}\n",
    "$$\n",
    "\n",
    "pero $q$ se puede simplificar como \n",
    "$$\n",
    "q = \\frac{1}{(|z|^2 - 1) + (|z|^2 + 1)} = \\frac{1}{2|z|^2}\n",
    "$$\n",
    "\n",
    "Por lo que entonces se tiene que\n",
    "$$\n",
    "\\begin{align*}\n",
    "\\Pi \\circ Rot_{\\pi, X} \\circ \\Pi^{-1}(z) &= \\frac{2 \\bar{z}}{2|z|^2} = \\frac{\\bar{z}}{|z|^2}\\\\\n",
    "&= \\frac{\\bar{z}}{z \\bar{z}}\\\\ \n",
    "&= \\frac{1}{z}\n",
    "\\end{align*}\n",
    "$$\n",
    "\n",
    "como se quería. $\\blacksquare$"
   ]
  },
  {
   "attachments": {},
   "cell_type": "markdown",
   "metadata": {},
   "source": [
    "----------------------------------------"
   ]
  },
  {
   "attachments": {},
   "cell_type": "markdown",
   "metadata": {},
   "source": [
    "### Ejercicio 2\n",
    "\n",
    "La composición de dos inversiones por círculos en $\\hat{\\mathbb{C}}$ distintas es una transformación de Möbius."
   ]
  },
  {
   "attachments": {},
   "cell_type": "markdown",
   "metadata": {},
   "source": [
    "#### **Prueba**"
   ]
  },
  {
   "attachments": {},
   "cell_type": "markdown",
   "metadata": {},
   "source": [
    "Sean $C, D \\subseteq \\mathbb{C}$ dos círculos distintos con centro en $z_C$ y $z_D$ y radios $r_C$ y $r_D$ respectivamente. Sea $z \\in \\hat{\\mathbb{C}}$. Entonces,\n",
    "\n",
    "$$\n",
    "I_C(z) = z_C + \\frac{r_C^2}{\\overline{(z - z_C)}}\n",
    "$$\n",
    "\n",
    "$$\n",
    "I_D(z) = z_D + \\frac{r_D^2}{\\overline{(z - z_D)}}\n",
    "$$"
   ]
  },
  {
   "attachments": {},
   "cell_type": "markdown",
   "metadata": {},
   "source": [
    "Luego, \n",
    "\n",
    "$$\n",
    "\\begin{align*}\n",
    "I_C \\circ I_D(z) &= z_C + \\frac{r_{C}^2}{\\overline{(I_D(z) - z_C)}}\\\\\n",
    " &= z_C + \\frac{r_{C}^2}{\\overline{(z_D + \\frac{r_D^2}{\\overline{(z - z_D)}} - z_C)}}\\\\\n",
    " &= z_C + \\frac{r_{C}^2}{(\\overline{z_D} + \\frac{r_D^2}{(z - z_D)} - \\overline{z_C})}\\\\\n",
    " &= z_C + \\frac{r_{C}^2}{\\overline{(z_D - z_C)} + \\frac{r_{D}^2}{z-z_D}}\\\\\n",
    "\\end{align*}\n",
    "$$"
   ]
  },
  {
   "attachments": {},
   "cell_type": "markdown",
   "metadata": {},
   "source": [
    "Así, es claro que $I_C \\circ I_D$ es una composición de transformaciones de Möbius\n",
    "\n",
    "$$\n",
    "\\begin{align*}\n",
    "    z &\\mapsto z_C + z\\\\\n",
    "    z &\\mapsto r_{C}^2 z\\\\\n",
    "    z &\\mapsto \\frac{1}{z}\\\\\n",
    "    z &\\mapsto \\overline{(z_D - z_C)} + z\\\\\n",
    "    z &\\mapsto r_D^2 z\\\\\n",
    "    z &\\mapsto \\frac{1}{z}\\\\\n",
    "    z &\\mapsto z - z_D\n",
    "\\end{align*}\n",
    "$$\n",
    "\n",
    "$\\blacksquare$\n",
    "\n",
    "------------------------------------------"
   ]
  },
  {
   "attachments": {},
   "cell_type": "markdown",
   "metadata": {},
   "source": [
    "### Ejercicio 3\n",
    "\n",
    "Si $T(z) = \\frac{az + b}{cz + d}$ es una transformación de Möbius con $c \\neq 0$, $\\mathcal{L}$ una recta que pasa por $z_0 \\in \\mathbb{C}$ y el polo de $T$ es tal que $-\\frac{d}{c} \\not \\in \\mathcal{L}$, entonces:\n",
    "  * a) $T(\\mathcal{L})$ es un círculo en $\\mathbb{C}$ e $I_{T(\\mathcal{L})} = T \\circ \\mathrm{Ref}_{\\mathcal{L}} \\circ T^{-1}$\n",
    "  * b) $T(\\mathcal{L})$ tiene centro $z_1 = T(\\mathrm{Ref}_\\mathcal{L} (-\\frac{d}{c}))$ y radio $r_1 = |z_1 - T(z_0)|$"
   ]
  },
  {
   "attachments": {},
   "cell_type": "markdown",
   "metadata": {},
   "source": [
    "### **Prueba**\n",
    "\n",
    "$\\fbox{Inciso a)}$ \n",
    "\n",
    "Sabemos que $T$ al ser de Möbius debe mandar rectas en circunferencias o rectas. Luego, como $-d/c \\not\\in \\mathcal{L}$, $T(-d/c) = \\infty$ y $T$ es biyectiva por ser de Möbius entonces $\\infty \\not\\in T(\\mathcal{L})$; por esto último entonces $T(\\mathcal{L})$ no es una recta, y como $T(\\mathcal{L})$ debe ser una recta o una circunferencia, entonces debe ser que $T(\\mathcal{L})$ es una circunferencia en $\\mathbb{C}$."
   ]
  },
  {
   "attachments": {},
   "cell_type": "markdown",
   "metadata": {},
   "source": [
    "Ahora, sea $C = T(\\mathcal{L})$ circunferencia y considerese $I_C$ la inversión por esta circunferencia. Al ser $I_C$ inversión se tiene que $I_C(C) = C$ y $T_C^{-1} = T_C$. Además nótese que $\\forall z \\in \\mathcal{L}\\ (T(z) \\in C)$ y también $\\mathrm{Ref}_\\mathcal{L}(\\mathcal{L}) = \\mathcal{L}$ y $\\mathrm{Ref}_\\mathcal{L}^{-1} = \\mathrm{Ref}_\\mathcal{L}$. Por lo anterior se tiene que para cualesquiera $z_1, z_2, z_3 \\in \\mathcal{L}$\n",
    "\n",
    "$$\n",
    "\\begin{align*}\n",
    "    I_C \\circ T \\circ \\mathrm{Ref}_\\mathcal{L}(z_j) &= I_{T(\\mathcal{L})}\\circ T(z_j)\\\\\n",
    "    &= I_C(T(z_j))\\\\\n",
    "    &= T(z_j)\n",
    "\\end{align*}\n",
    "$$\n",
    "para toda $j \\in \\{1, 2, 3\\}$.\n",
    "\n",
    "Al ser $I_C \\circ T \\circ \\mathrm{Ref}_\\mathcal{L}$ composición de automorfismos conformes que preservan orientación, entonces por el teorema de caracterización debe de ser una transformación de Möbius. Más aún, por el teorema de transitividad de ternas de puntos se tiene que $I_C \\circ T \\circ \\mathrm{Ref}_\\mathcal{L} = T$, que es lo mismo que $I_{T(\\mathcal{L})} = T \\circ \\mathrm{Ref}_{\\mathcal{L}}\\circ T^{-1}$ al considerar que $\\mathrm{Ref}_\\mathcal{L}$ es autoinverso."
   ]
  },
  {
   "attachments": {},
   "cell_type": "markdown",
   "metadata": {},
   "source": [
    "$\\fbox{Inciso b)}$ \n",
    "\n",
    "Notemos que al ser que $z_0 \\in \\mathcal{L}$ entonces $T(z_0) \\in T(\\mathcal{L})$. Si $z_1$ es el centro de $T(\\mathcal{L})$ entonces por definición el radio de $T(\\mathcal{L})$ es $$r_1 = \\vert z_1 - T(z_0) \\vert$$\n",
    "\n",
    "Además, el centro $z_1$ debe satisfacer que $I_{T(\\mathcal{L})}(z_1) = \\infty$, pero $T(-d/c) = \\infty$ por lo que\n",
    "$$\n",
    "\\begin{align*}\n",
    "    I_C \\circ T \\circ \\mathrm{Ref}_\\mathcal{L}(-d/c) &= I_{T(\\mathcal{L})}\\circ T(-d/c)\\\\\n",
    "    &= I_C(T(-d/c))\\\\\n",
    "    &= T(-d/c) = \\infty\n",
    "\\end{align*}\n",
    "$$\n",
    "\n",
    "de modo que el centro $z_1 = T(\\mathrm{Ref}_\\mathcal{L}(-d/c))$ como se quería mostrar.\n",
    "\n",
    "\n",
    "$\\blacksquare$"
   ]
  },
  {
   "attachments": {},
   "cell_type": "markdown",
   "metadata": {},
   "source": [
    "----------------------------------------------------------------"
   ]
  },
  {
   "attachments": {},
   "cell_type": "markdown",
   "metadata": {},
   "source": [
    "### Ejercicio 4\n",
    "\n",
    "En la red de Steiner de una transformación de Möbius loxodrómica, las espirales intersecan a los círculos de Apolonio en exactamente un punto y en un ángulo constante para toda la red."
   ]
  },
  {
   "attachments": {},
   "cell_type": "markdown",
   "metadata": {},
   "source": [
    "#### **Prueba**"
   ]
  },
  {
   "attachments": {},
   "cell_type": "markdown",
   "metadata": {},
   "source": [
    "(Hint: Recordar que el vector tangente a una curva parametrizada diferenciable $\\alpha(t)$ es $\\alpha'(t)$)"
   ]
  },
  {
   "attachments": {},
   "cell_type": "markdown",
   "metadata": {},
   "source": [
    "Sea $A_r \\in \\mathcal{A}(0, \\infty)$. \n",
    "\n",
    "Notemos que si $\\vert w_0 \\vert = 1$ en $\\gamma(t) = w_0 e^{t \\log r + i \\theta}$ entonces para $t = 1$ se tiene que $\\vert \\gamma(1) \\vert = \\vert w_0 \\vert r^1 = r$. Así, $\\gamma(1) \\in A$. Más aún, al ser $\\gamma$ una curva entonces es inyectiva, de modo que sólo $\\gamma(1)$ es tal que $\\gamma(1) \\in A_r \\cap \\gamma$. Luego, como $S^{-1}$ es biyectiva entonces $$S^{-1}(\\gamma(1)) \\in S^{-1}(A_r \\cap \\gamma) = S^{-1}(A_r) \\cap S^{-1}(\\gamma)$$ y $S^{-1}(\\gamma(1)) \\in S^{-1}(A_r) \\cap S^{-1}(\\gamma)$ es único. Finalmente, como $A_r \\in \\mathcal{A}(0, \\infty)$ entonces $S^{-1} \\in \\mathcal{A}(z_1, z_2)$. \n",
    "\n",
    "De esta forma se demuestra que las espirales intersecan a los círculos de Apolonio en exactamente un punto. "
   ]
  },
  {
   "attachments": {},
   "cell_type": "markdown",
   "metadata": {},
   "source": [
    "Veamos que el ángulo que se forma por $\\gamma'(1)$ y sus intersecciones con $A_r$ y $B \\in \\mathcal{B}(z_1, z_2)$ son constantes.\n",
    "\n",
    "Notemos que $\\gamma'(t) = (\\log r) \\gamma(t)$, de modo que $$\\gamma'(1) = (\\log r) w_0 r (\\cos \\theta + i\\sin\\theta)$$\n",
    "\n",
    "Así, como $\\theta$ es constante para $\\gamma(t)$ y por lo tanto para $\\gamma'(t)$ y el vector tangente a los círculos de Apolonio siempre es horizontal y el vector tangente a los meridianos es vertical, entonces el ángulo con respecto a los circulos es de $\\theta$ y el ángulo con respecto a los meridianos es $\\frac{\\pi}{2} - \\theta$. Luego, como $S^{-1}$ es de Möbius y por lo tanto es conforme entonces los ángulos entre $S^{-1}(A_r), S^{\\gamma'}$ y $S^{-1}(B), B \\in \\mathcal{B}(z_1, z_2)$, se mantienen constantes."
   ]
  },
  {
   "attachments": {},
   "cell_type": "markdown",
   "metadata": {},
   "source": [
    "$\\blacksquare$"
   ]
  }
 ],
 "metadata": {
  "kernelspec": {
   "display_name": "Julia 1.8.5",
   "language": "julia",
   "name": "julia-1.8"
  },
  "language_info": {
   "file_extension": ".jl",
   "mimetype": "application/julia",
   "name": "julia",
   "version": "1.8.5"
  },
  "orig_nbformat": 4
 },
 "nbformat": 4,
 "nbformat_minor": 2
}
